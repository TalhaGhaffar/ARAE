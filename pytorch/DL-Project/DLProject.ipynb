{
 "cells": [
  {
   "cell_type": "code",
   "execution_count": 2,
   "metadata": {
    "collapsed": true
   },
   "outputs": [],
   "source": [
    "import glob\n",
    "import pandas as pd\n",
    "import numpy as np\n",
    "\n",
    "from matplotlib import pyplot as plt"
   ]
  },
  {
   "cell_type": "code",
   "execution_count": 2,
   "metadata": {},
   "outputs": [
    {
     "name": "stdout",
     "output_type": "stream",
     "text": [
      "/home/sudo777/ICEWS/data/v2016.03.02/\n",
      "['/home/sudo777/ICEWS/data/v2016.03.02/events.2000.csv', '/home/sudo777/ICEWS/data/v2016.03.02/events.2001.csv', '/home/sudo777/ICEWS/data/v2016.03.02/events.2002.csv', '/home/sudo777/ICEWS/data/v2016.03.02/events.2003.csv', '/home/sudo777/ICEWS/data/v2016.03.02/events.2004.csv', '/home/sudo777/ICEWS/data/v2016.03.02/events.2005.csv', '/home/sudo777/ICEWS/data/v2016.03.02/events.2006.csv', '/home/sudo777/ICEWS/data/v2016.03.02/events.2007.csv', '/home/sudo777/ICEWS/data/v2016.03.02/events.2008.csv', '/home/sudo777/ICEWS/data/v2016.03.02/events.2009.csv', '/home/sudo777/ICEWS/data/v2016.03.02/events.2010.csv', '/home/sudo777/ICEWS/data/v2016.03.02/events.2011.csv', '/home/sudo777/ICEWS/data/v2016.03.02/events.2012.csv', '/home/sudo777/ICEWS/data/v2016.03.02/events.2013.csv', '/home/sudo777/ICEWS/data/v2016.03.02/events.2014.csv', '/home/sudo777/ICEWS/data/v2016.03.02/events.2015.csv']\n"
     ]
    },
    {
     "name": "stderr",
     "output_type": "stream",
     "text": [
      "/home/sudo777/anaconda3/lib/python3.6/site-packages/IPython/core/interactiveshell.py:2717: DtypeWarning: Columns (22) have mixed types. Specify dtype option on import or set low_memory=False.\n",
      "  interactivity=interactivity, compiler=compiler, result=result)\n",
      "/home/sudo777/anaconda3/lib/python3.6/site-packages/numpy/lib/arraysetops.py:395: FutureWarning: elementwise comparison failed; returning scalar instead, but in the future will perform elementwise comparison\n",
      "  mask |= (ar1 == a)\n"
     ]
    }
   ],
   "source": [
    "vCurrent = 'v2016.03.02'\n",
    "PATH_ICEWS = '/home/sudo777/ICEWS/data/{}/'.format(vCurrent)\n",
    "print(PATH_ICEWS)\n",
    "icews_files = glob.glob(PATH_ICEWS + 'events.20[0-9][0-9].csv')\n",
    "print(icews_files)\n",
    "frameList = []\n",
    "for icewsFile in icews_files:\n",
    "    currDataFrame = pd.read_csv(icewsFile, sep='\\t', quoting=3, index_col=0, parse_dates= [1], lineterminator='\\n')\n",
    "    frameList.append(currDataFrame)\n",
    "    \n",
    "ICEWS = pd.concat(frameList)"
   ]
  },
  {
   "cell_type": "code",
   "execution_count": 3,
   "metadata": {
    "collapsed": true
   },
   "outputs": [],
   "source": [
    "categories_from_data = set(ICEWS['Event Text'])\n",
    "categories_from_data = [c.lower().replace(\",\",'') for c in categories_from_data]"
   ]
  },
  {
   "cell_type": "code",
   "execution_count": 4,
   "metadata": {
    "collapsed": true
   },
   "outputs": [],
   "source": [
    "icews_cameo_categories = {\n",
    "14: \"PROTEST\", \n",
    "140: \"Engage in civilian protest\", \n",
    "141: \"Demonstrate or rally\",\n",
    "1411: \"Demonstrate or rally for leadership change\",\n",
    "1412: \"Demonstrate or rally for policy change\",\n",
    "1413: \"Demonstrate or rally for rights\",\n",
    "1414: \"Demonstrate for change in institutions, regime\",\n",
    "142: \"Conduct hunger strike\",\n",
    "1421: \"Conduct hunger strike for leadership change\",\n",
    "1422: \"Conduct hunger strike for policy change\",\n",
    "1423: \"Conduct hunger strike for rights\",\n",
    "1424: \"Hunger strike change in institutions, regime\",\n",
    "143: \"Conduct strike or boycott\",\n",
    "1431: \"Strike or boycott for leadership change\",\n",
    "1432: \"Strike or boycott for policy change\",\n",
    "1433: \"Strike or boycott for rights\",\n",
    "1434: \"Strike or boycott for change in institutions, regime\",\n",
    "144: \"Obstruct passage or block\", \n",
    "1441: \"Obstruct passage for leadership change\",\n",
    "1442: \"Obstruct passage for policy change\",\n",
    "1443: \"Obstruct passage for rights\",\n",
    "1444: \"Obstruct passage for change in institutions, regime\",\n",
    "145: \"Engage in violent protest, riot\",\n",
    "1451: \"Violently protest for leadership change\",\n",
    "1452: \"Violently protest for policy change\",\n",
    "1453: \"Violently protest for rights\",\n",
    "1454: \"Violently protest for change in institutions, regime\",\n",
    "\"01\": \"MAKE PUBLIC STATEMENT\",\n",
    "\"010\": \"Make statement\",\n",
    "\"011\": \"Decline comment\",\n",
    "\"012\": \"Make pessimistic comment\",\n",
    "\"013\": \"Make optimistic comment\",\n",
    "\"014\": \"Consider policy option\",\n",
    "\"015\": \"Acknowledge or claim responsibility\",\n",
    "\"016\": \"Reject accusation, deny responsibility\", \n",
    "\"017\": \"Engage in symbolic act\",\n",
    "\"018\": \"Make empathetic comment\",\n",
    "\"019\": \"Express accord\",\n",
    "\"020\": \"Appeal\", \n",
    "\"021\": \"Appeal for material cooperation\",\n",
    "\"0211\": \"Appeal for economic cooperation\", \n",
    "\"0212\": \"Appeal for military cooperation\",\n",
    "\"0213\": \"Appeal for judicial cooperation\", \n",
    "\"0214\": \"Appeal for intelligence cooperation\", \n",
    "\"0215\": \"Appeal for military cooperation\",\n",
    "\"022\": \"Appeal for diplomatic cooperation or policy support\", \n",
    "\"023\": \"Appeal for material aid\",\n",
    "\"0231\": \"Appeal for economic aid\",\n",
    "\"0232\": \"Appeal for military aid\",\n",
    "\"0233\": \"Appeal for humanitarian aid\",\n",
    "\"0234\": \"Appeal for military protection or peacekeeping\",\n",
    "\"024\": \"Appeal for political reform\",\n",
    "\"0241\": \"Appeal for leadership change\",\n",
    "\"0242\": \"Appeal for policy change\",\n",
    "\"0243\": \"Appeal for rights\",\n",
    "\"0244\": \"Appeal for change in institutions, regime\", \n",
    "\"025\": \"Appeal to yield\",\n",
    "\"0251\": \"Appeal for easing of administrative sanctions\", \n",
    "\"0252\": \"Appeal for easing of political dissent\",\n",
    "\"0253\": \"Appeal for release of persons or property\",\n",
    "\"0254\": \"Appeal for easing of economic sanctions, boycott\", \n",
    "\"0255\": \"Appeal for international involvement (not mediat.)\", \n",
    "\"0256\": \"Appeal for target to deescalate military engage\",\n",
    "\"026\": \"Appeal to others to meet or negotiate\",\n",
    "\"027\": \"Appeal to others to settle dispute\",\n",
    "\"028\": \"Appeal to others to engage in or accept mediation\",\n",
    "\"030\": \"Express intent to cooperate\",\n",
    "\"031\": \"Express intent to engage in material cooperation\",\n",
    "\"0311\": \"Express intent to cooperate economically\",\n",
    "\"0312\": \"Express intent to cooperate militarily\",\n",
    "\"0313\": \"Express intent to cooperate judicially\",\n",
    "\"0314\": \"Express intent to cooperate on intelligence\",\n",
    "\"032\": \"Express intent to engage in diplomatic cooperation such as policy support\",\n",
    "\"033\": \"Express intent to provide material aid\",\n",
    "\"0331\": \"Express intent to provide economic aid\",\n",
    "\"0332\": \"Express intent to provide military aid\",\n",
    "\"0333\": \"Express intent to provide humanitarian aid\",\n",
    "\"0334\": \"Express intent to provide military protection or peacekeeping\",\n",
    "\"034\": \"Express intent to institute political reform\",\n",
    "\"0341\": \"Express intent to change leadership\",\n",
    "\"0342\": \"Express intent to change policy\",\n",
    "\"0343\": \"Express intent to provide rights\",\n",
    "\"0344\": \"Express intent to change institutions, regime\",\n",
    "\"035\": \"Express intent to yield\",\n",
    "\"0351\": \"Express intent to ease administrative sanctions\",\n",
    "\"0352\": \"Express intent to ease popular dissent\",\n",
    "\"0353\": \"Express intent to release of persons or property\",\n",
    "\"0354\": \"Express intent to ease economic sanctions, boycott\",\n",
    "\"0355\": \"Express intent to allow international involvement (not mediat.)\",\n",
    "\"0356\": \"Express intent to deescalate military engagement\",\n",
    "\"036\": \"Express intent to meet or negotiate\",\n",
    "\"037\": \"Express intent to settle dispute\",\n",
    "\"038\": \"Express intent to accept mediation\",\n",
    "\"039\": \"Express intent to mediate\",\n",
    "\"040\": \"Consult\",\n",
    "\"041\": \"Discuss by telephone\",\n",
    "\"042\": \"Make a visit\",\n",
    "\"043\": \"Host a visit\",\n",
    "\"044\": \"Meet at a 'third' location\",\n",
    "\"045\": \"Engage in mediation\",\n",
    "\"046\": \"Engage in negotiation\",\n",
    "\"050\": \"Engage in diplomatic cooperation\",\n",
    "\"051\": \"Praise or endorse\",\n",
    "\"052\": \"Defend verbally\",\n",
    "\"053\": \"Rally support on behalf of\",\n",
    "\"054\": \"Grant diplomatic recognition\",\n",
    "\"055\": \"Apologize\",\n",
    "\"056\": \"Forgive\",\n",
    "\"057\": \"Sign formal agreement\",\n",
    "\"060\": \"Engage in material cooperation\",\n",
    "\"061\": \"Cooperate economically\",\n",
    "\"062\": \"Cooperate militarily\",\n",
    "\"063\": \"Engage in judicial cooperation\",\n",
    "\"064\": \"Share intelligence or information\",\n",
    "\"070\": \"Provide aid\",\n",
    "\"071\": \"Provide economic aid\",\n",
    "\"072\": \"Provide military aid\",\n",
    "\"073\": \"Provide humanitarian aid\",\n",
    "\"074\": \"Provide military protection or peacekeeping\",\n",
    "\"075\": \"Grant asylum\",\n",
    "\"080\": \"Yield\",\n",
    "\"081\": \"Ease administrative sanctions\",\n",
    "\"0811\": \"Ease restrictions on political freedoms\",\n",
    "\"0812\": \"Ease ban on parties or politicians\",\n",
    "\"0813\": \"Ease curfew\",\n",
    "\"0814\": \"Ease state of emergency or curfew\",\n",
    "\"082\": \"Ease political dissent\",\n",
    "\"083\": \"Accede to requests or demands for political reform\",\n",
    "\"0831\": \"Accede to demands to change leadership\",\n",
    "\"0832\": \"Accede to demands to change policy\",\n",
    "\"0833\": \"Accede to demands to provide rights\",\n",
    "\"0834\": \"Accede to demands to change institutions, regime\",\n",
    "\"084\": \"Return, release\",\n",
    "\"0841\": \"Return, release persons\",\n",
    "\"0842\": \"Return, release property\",\n",
    "\"085\": \"Ease economic sanctions, boycott or embargo\",\n",
    "\"086\": \"Allow international involvement\",\n",
    "\"0861\": \"Receive deployment of peacekeepers\",\n",
    "\"0862\": \"Receive inspectors\",\n",
    "\"0863\": \"Allow for humanitarian access\",\n",
    "\"087\": \"De-escalate military engagement\",\n",
    "\"0871\": \"Declare truce, ceasefire\",\n",
    "\"0872\": \"Ease military blockade\",\n",
    "\"0873\": \"Demobilize armed forces\",\n",
    "\"0874\": \"Retreat or surrender militarily\",\n",
    "\"090\": \"Investigate \",\n",
    "\"091\": \"Investigate crime, corruption\",\n",
    "\"092\": \"Investigate human rights abuses\",\n",
    "\"093\": \"Investigate military action\",\n",
    "\"094\": \"Investigate war crimes\",\n",
    "\"100\": \"Demand\",\n",
    "\"101\": \"Demand material cooperation\",\n",
    "\"1011\": \"Demand economic cooperation\",\n",
    "\"1012\": \"Demand military cooperation\",\n",
    "\"1013\": \"Demand judicial cooperation\",\n",
    "\"1014\": \"Demand intelligence cooperation\",\n",
    "\"1015\": \"Demand military cooperation\",\n",
    "\"102\": \"Demand diplomatic cooperation such as policy support\",\n",
    "\"103\": \"Demand material aid\",\n",
    "\"1031\": \"Demand economic aid\",\n",
    "\"1032\": \"Demand military aid\",\n",
    "\"1033\": \"Demand humanitarian aid\",\n",
    "\"1034\": \"Demand military protection or peacekeeping\",\n",
    "\"104\": \"Demand political reform\",\n",
    "\"1041\": \"Demand leadership change\",\n",
    "\"1042\": \"Demand policy change\",\n",
    "\"1043\": \"Demand rights\",\n",
    "\"1044\": \"Demand change in institutions, regime\",\n",
    "\"105\": \"Demand target yield\",\n",
    "\"1051\": \"Demand easing of administrative sanctions\",\n",
    "\"1052\": \"Demand easing of political dissent\",\n",
    "\"1053\": \"Demand release of persons or property\",\n",
    "\"1054\": \"Demand easing of economic sanctions, boycott\",\n",
    "\"1055\": \"Demand international involvement (not mediat.)\",\n",
    "\"1056\": \"Demand de-escalation of military engage\",\n",
    "\"106\": \"Demand meeting, negotiation\",\n",
    "\"107\": \"Demand settling of dispute\",\n",
    "\"108\": \"Demand meditation\",\n",
    "\"110\": \"Disapprove\",\n",
    "\"111\": \"Criticize or denounce\",\n",
    "\"112\": \"Accuse\",\n",
    "\"1121\": \"Accuse of crime, corruption\",\n",
    "\"1122\": \"Accuse of human rights abuses\",\n",
    "\"1123\": \"Accuse of aggression\",\n",
    "\"1124\": \"Accuse of war crimes\",\n",
    "\"1125\": \"Accuse of espionage, treason\",\n",
    "\"113\": \"Rally opposition against\",\n",
    "\"114\": \"Complain officially\",\n",
    "\"115\": \"Bring lawsuit against\",\n",
    "\"116\": \"Find legally guilty or liable\",\n",
    "\"120\": \"Reject\",\n",
    "\"121\": \"Reject material cooperation\",\n",
    "\"1211\": \"Reject economic cooperation\",\n",
    "\"1212\": \"Reject military cooperation\",\n",
    "\"1213\": \"Reject judicial cooperation\",\n",
    "\"1214\": \"Reject intelligence cooperation\",\n",
    "\"1215\": \"Reject military cooperation\",\n",
    "\"122\": \"Reject request for material aid\",\n",
    "\"1221\": \"Reject request for economic aid\",\n",
    "\"1222\": \"Reject request for military aid\",\n",
    "\"1223\": \"Reject request for humanitarian aid\",\n",
    "\"1224\": \"Reject request for military protection, peacekeeping\",\n",
    "\"123\": \"Reject demand for political reform\",\n",
    "\"1231\": \"Reject request for leadership change\",\n",
    "\"1232\": \"Reject request for policy change\",\n",
    "\"1233\": \"Reject request for rights\",\n",
    "\"1234\": \"Reject request for change in institutions, regime\",\n",
    "\"124\": \"Refuse to yield\",\n",
    "\"1241\": \"Refuse to ease administrative sanctions\",\n",
    "\"1242\": \"Refuse ease popular dissent\",\n",
    "\"1243\": \"Refuse to release of persons or property\",\n",
    "\"1244\": \"Refuse to ease economic sanctions, boycott\",\n",
    "\"1245\": \"Refuse to allow international involvement (not mediation)\",\n",
    "\"1246\": \"Refuse to de-escalate military engagement\",\n",
    "\"125\": \"Reject proposal to meet, discuss, negotiate\",\n",
    "\"126\": \"Reject mediation\",\n",
    "\"127\": \"Reject plan, agreement to settle dispute\",\n",
    "\"128\": \"Defy norms, law\",\n",
    "\"129\": \"Veto\",\n",
    "\"130\": \"Threaten\",\n",
    "\"131\": \"Threaten non-force\",\n",
    "\"1311\": \"Threaten to reduce or stop aid\",\n",
    "\"1312\": \"Threaten to boycott, embargo, or sanction\",\n",
    "\"1313\": \"Threaten to reduce or break relations\",\n",
    "\"132\": \"Threaten with administrative sanctions\",\n",
    "\"1321\": \"Threaten with restrictions on political freedoms\",\n",
    "\"1322\": \"Threaten to ban political parties or politicians\",\n",
    "\"1323\": \"Threaten to impose curfew\",\n",
    "\"1324\": \"Threat to impose state of emergency or martial law\",\n",
    "\"133\": \"Threaten political dissent\",\n",
    "\"134\": \"Threaten to halt negotiations\",\n",
    "\"135\": \"Threaten to halt mediation\",\n",
    "\"136\": \"Threaten to halt international involvement (not medit.)\",\n",
    "\"137\": \"Threat with repression\",\n",
    "\"138\": \"Threaten force\",\n",
    "\"1381\": \"Threaten blockade\",\n",
    "\"1382\": \"Threaten occupation\",\n",
    "\"1383\": \"Threaten unconventional violence\",\n",
    "\"1384\": \"Threaten conventional attack\",\n",
    "\"1385\": \"Threaten attack with WMD\",\n",
    "\"137\": \"Give ultimatum\",\n",
    "\"15\": \"EXHIBIT MILITARY POSTURE\",\n",
    "\"150\": \"Exhibit military or police power\",\n",
    "\"151\": \"Increase police alert status\",\n",
    "\"152\": \"Increase military alert status\",\n",
    "\"153\": \"Mobilize or increase police power\",\n",
    "\"154\": \"Mobilize or increase armed forces\",\n",
    "\"155\": \"Mobilize or increase cyber-forces\",\n",
    "\"160\": \"Reduce relations\",\n",
    "\"161\": \"Reduce or break diplomatic relations\",\n",
    "\"162\": \"Reduce or stop material aid\",\n",
    "\"1621\": \"Reduce or stop economic assistance\",\n",
    "\"1622\": \"Reduce or stop military assistance\",\n",
    "\"1623\": \"Reduce or stop humanitarian assistance\",\n",
    "\"163\": \"Impose embargo, boycott or sanctions\",\n",
    "\"164\": \"Halt negotiations\",\n",
    "\"165\": \"Halt mediation\",\n",
    "\"166\": \"Expel or withdraw\",\n",
    "\"1661\": \"Expel or withdraw peacekeepers\",\n",
    "\"1662\": \"Expel or withdraw inspectors, observers\",\n",
    "\"1663\": \"Expel or withdraw aid agencies\",\n",
    "\"170\": \"Coerce\",\n",
    "\"171\": \"Seize or damage property\",\n",
    "\"1711\": \"Confiscate property\",\n",
    "\"1712\": \"Destroy property\",\n",
    "\"172\": \"Impose administrative sanctions\",\n",
    "\"1721\": \"Impose restrictions on political freedoms\",\n",
    "\"1722\": \"Ban political parties or politicians\",\n",
    "\"1723\": \"Impose curfew\",\n",
    "\"1724\": \"Impose state of emergency or martial law\",\n",
    "\"173\": \"Arrest, detain\",\n",
    "\"174\": \"Expel or deport individuals\",\n",
    "\"175\": \"Attack cybernetically\",\n",
    "\"18\": \"ASSAULT\",\n",
    "\"180\": \"Use unconventional violence\",\n",
    "\"181\": \"Abduct, hijack, take hostage\",\n",
    "\"182\": \"Physically assault\",\n",
    "\"1821\": \"Sexually assault\",\n",
    "\"1822\": \"Torture\",\n",
    "\"1823\": \"Kill by physical assault\",\n",
    "\"183\": \"Conduct suicide, car, or other non-military bombing\",\n",
    "\"1831\": \"Carry out suicide bombing\",\n",
    "\"1832\": \"Carry out vehicular bombing\",\n",
    "\"1833\": \"Carry out roadside bombing (IED)\",\n",
    "\"184\": \"Use as human shield\",\n",
    "\"185\": \"Attempt to assassinate\",\n",
    "\"186\": \"Assassinate\",\n",
    "\"19\": \"FIGHT\",\n",
    "\"190\": \"Use conventional military force\",\n",
    "\"191\": \"Impose blockade, restrict movement\",\n",
    "\"192\": \"Occupy territory\",\n",
    "\"193\": \"Fight with small arms and light weapons\",\n",
    "\"194\": \"Fight with artillery and tanks\",\n",
    "\"195\": \"Employ aerial weapons\",\n",
    "\"1951\": \"Employ precision-guided aerial munitions\",\n",
    "\"1952\": \"Employ remotely piloted aerial munitions\",\n",
    "\"196\": \"Violate ceasefire\",\n",
    "\"200\": \"Engage in unconventional mass violence\",\n",
    "\"201\": \"Engage in mass expulsion\",\n",
    "\"202\": \"Engage in mass killings\",\n",
    "\"203\": \"Engage in ethnic cleansing\",\n",
    "\"204\": \"Use weapons of mass destruction\",\n",
    "\"2041\": \"Use chemical, biological, or radiological weapons\",\n",
    "\"2042\": \"Detonate nuclear weapons\"\n",
    "\n",
    "}"
   ]
  },
  {
   "cell_type": "code",
   "execution_count": 5,
   "metadata": {},
   "outputs": [
    {
     "name": "stdout",
     "output_type": "stream",
     "text": [
      "total CAMEO categories 300\n",
      "mapped categories 178\n"
     ]
    }
   ],
   "source": [
    "icews_cameo_categories = {v.lower().strip().replace(',',''): str(k) for k, v in icews_cameo_categories.items()}\n",
    "print(\"total CAMEO categories {}\".format(len(icews_cameo_categories)))\n",
    "\n",
    "mapped_categories = {\n",
    "\"engage in civilian protest\":140,\n",
    "\"demonstrate or rally\":141,\n",
    "\"present demonstrate or rally\":141,\n",
    "\"demonstrate for leadership change\":1411,\n",
    "\"demonstrate or rally for leadership change\":1411,\n",
    "\"demonstrate for policy change\":1412,\n",
    "\"demonstrate or rally for policy change\":1412,\n",
    "\"demonstrate for rights\":1413,\n",
    "\"demonstrate or rally for rights\":1413,\n",
    "\"demonstrate for change in institutions regime\":1414,\n",
    "\"conduct hunger strike\":142,\n",
    "\"present conduct hunger strike\":142,\n",
    "\"conduct hunger strike for leadership change\":1421,\n",
    "\"conduct hunger strike for policy change\":1422,\n",
    "\"conduct hunger strike for rights\":1423,\n",
    "\"hunger strike change in institutions regime\":1424,\n",
    "\"conduct strike or boycott\":143,\n",
    "\"present conduct strike or boycott\":143,\n",
    "\"conduct strike or boycott for leadership change\":1431, \n",
    "\"strike or boycott for leadership change\":1431,\n",
    "\"conduct strike or boycott for policy change\":1432,\n",
    "\"strike or boycott for policy change\":1432,\n",
    "\"strike or boycott for rights\":1433,\n",
    "\"strike or boycott for change in institutions regime\":1434,\n",
    "\"obstruct passage block\":144,\n",
    "\"obstruct passage or block\":144,\n",
    "\"obstruct passage to demand leadership change\":1441,\n",
    "\"obstruct passage for leadership change\":1441,\n",
    "\"obstruct passage to demand policy change\":1442,\n",
    "\"obstruct passage for policy change\":1442,\n",
    "\"obstruct passage for rights\":1443,\n",
    "\"obstruct passage to demand change in institutions, regime\":1444,\n",
    "\"obstruct passage for change in institutions regime\":1444,\n",
    "\"protest violently riot\":145,\n",
    "\"engage in violent protest riot\":145,\n",
    "\"engage in violent protest for leadership change\":1451,\n",
    "\"violently protest for leadership change\":1451,\n",
    "\"engage in violent protest for policy change\":1452,\n",
    "\"violently protest for rights\":1453,\n",
    "\"violently protest for policy change\":1452,\n",
    "\"engage in violent protest for change in institutions regime\":1454,\n",
    "\"violently protest for change in institutions regime\":1454,\n",
    "\"appeal for intelligence cooperation\":\"0214\",\n",
    "\"appeal for intelligence\":\"0214\",\n",
    "\"appeal for intelligence cooperation\":\"0214\",\n",
    "\"appeal for intelligence\":\"0214\",\n",
    "\"reject accusation deny responsibility\":\"016\",\n",
    "\"deny responsibility\":\"016\",\n",
    "\"appeal for international involvement (not mediat.)\":\"0255\",\n",
    "\"appeal for target to allow international involvement (non-mediation)\":\"0255\",\n",
    "\"appeal to others to engage in or accept mediation\":\"028\",\n",
    "\"appeal to engage in or accept mediation\":\"028\",\n",
    "\"appeal for diplomatic cooperation (such as policy support)\":\"022\",\n",
    "\"appeal for diplomatic cooperation or policy support\":\"022\",\n",
    "\"appeal for change in leadership\":\"0241\",\n",
    "\"appeal for leadership change\":\"0241\",\n",
    "\"appeal for de-escalation of military engagement\":\"0256\",\n",
    "\"appeal for target to deescalate military engage\":\"0256\",\n",
    "\"appeal for easing of economic sanctions boycott or embargo\":\"0254\",\n",
    "\"appeal for easing of economic sanctions boycott\":\"0254\",\n",
    "\"appeal for aid\":\"023\",\n",
    "\"appeal for material aid\":\"023\",\n",
    "\"protest\":\"14\",\n",
    "\"appeal for easing of political dissent\":\"0252\",\n",
    "\"appeal\": \"020\",\n",
    "\"make an appeal or request\": \"020\",\n",
    "\"make public statement\":\"01\",\n",
    "\"express intent to engage in diplomatic cooperation (such as policy support)\": \"032\",\n",
    "\"express intent to engage in diplomatic cooperation such as policy support\": \"032\",\n",
    "\"express intent to de-escalate military engagement\": \"0356\",\n",
    "\"express intent to deescalate military engagement\": \"0356\",\n",
    "\"express intent to cooperate on judicial matters\": \"0313\",\n",
    "\"express intent to cooperate judicially\": \"0313\",\n",
    "\"express intent to release persons or property\": \"0353\",\n",
    "\"express intent to release of persons or property\": \"0353\",\n",
    "\"express intent to allow international involvement (non-mediation)\": \"0355\",\n",
    "\"express intent to allow international involvement (not mediat.)\": \"0355\",\n",
    "\"express intent to change policy\": \"0342\",\n",
    "\"express intent to ease economic sanctions boycott\": \"0354\",\n",
    "\"express intent to ease popular dissent\": \"0352\",\n",
    "\"engage in mediation\": \"045\",\n",
    "\"mediate\": \"045\",\n",
    "\"accede to demands for change in policy\":\"0832\",\n",
    "\"accede to demands to change policy\":\"0832\",\n",
    "\"accede to demands for change in leadership\":\"0831\",\n",
    "\"accede to demands to change leadership\":\"0831\",\n",
    "\"allow humanitarian access\":\"0863\",\n",
    "\"allow for humanitarian access\":\"0863\",\n",
    "\"accede to demands for rights\":\"0833\",\n",
    "\"accede to demands to provide rights\":\"0833\",\n",
    "\"return release person(s)\":\"0841\",\n",
    "\"return release persons\":\"0841\",\n",
    "\"accede to demands for change in institutions regime\":\"0834\",\n",
    "\"accede to demands to change institutions regime\":\"0834\",\n",
    "\"ease ban on political parties or politicians\":\"0812\",\n",
    "\"ease ban on parties or politicians\":\"0812\",\n",
    "\"ease curfew\":\"0814\",\n",
    "\"ease state of emergency or curfew\":\"0814\",\n",
    "\"ease economic sanctions boycott embargo\":\"085\",\n",
    "\"ease economic sanctions boycott or embargo\":\"085\",\n",
    "\"reject request for material aid\":\"122\",\n",
    "\"reject request or demand for material aid\":\"122\",\n",
    "\"refuse to release of persons or property\":\"1243\",\n",
    "\"refuse to release persons or property\":\"1243\",\n",
    "\"refuse to allow international involvement (not mediation)\":\"1245\",\n",
    "\"refuse to allow international involvement (non mediation)\":\"1245\",\n",
    "\"refuse to ease economic sanctions boycott\":\"1244\",\n",
    "\"refuse to ease economic sanctions boycott or embargo\":\"1244\",\n",
    "\"reject request for military protection peacekeeping\":\"1224\",\n",
    "\"reject request for military protection or peacekeeping\":\"1224\",\n",
    "\"reject proposal to meet discuss negotiate\":\"125\",\n",
    "\"reject proposal to meet discuss or negotiate\":\"125\",\n",
    "\"reject request for leadership change\":\"1231\",\n",
    "\"reject request for change in leadership\":\"1231\",\n",
    "\"reject demand for political reform\":\"123\",\n",
    "\"reject request or demand for political reform\":\"123\",\n",
    "\"find legally guilty or liable\":\"116\",\n",
    "\"find guilty or liable (legally)\":\"116\",\n",
    "\"demand international involvement (not mediat.)\":\"1055\",\n",
    "\"demand that target allows international involvement (non-mediation)\":\"1055\",\n",
    "\"demand de-escalation of military engage\":\"1056\",\n",
    "\"demand de-escalation of military engagement\":\"1056\",\n",
    "\"demand easing of economic sanctions boycott\":\"1054\",\n",
    "\"demand easing of economic sanctions boycott or embargo\":\"1054\",\n",
    "\"demand diplomatic cooperation such as policy support\":\"102\",\n",
    "\"demand diplomatic cooperation (such as policy support)\":\"102\",\n",
    "\"demand leadership change\":\"1041\",\n",
    "\"demand change in leadership\":\"1041\",\n",
    "\"demand that target yields\":\"105\",\n",
    "\"demand target yield\": \"105\",\n",
    "\"demand mediation\": \"108\",\n",
    "\"demand material aid\": \"103\", \n",
    "\"demand military aid\": \"1032\",\n",
    "\"demand economic cooperation\": \"1011\",\n",
    "\"demand easing of political dissent\": \"1052\",\n",
    "\"disapprove\": \"110\",\n",
    "\"reject intelligence cooperation\": \"1214\",\n",
    "\"refuse ease popular dissent\": \"1242\",\n",
    "\"threaten with military force\": \"1384\",\n",
    "\"threaten with repression\": \"137\",\n",
    "\"ease state of emergency or martial law\": \"0814\",\n",
    "\"carry out vehicular bombing\": \"1832\",\n",
    "\"carry out car bombing\" : \"1832\",\n",
    "\"abduct hijack take hostage\": \"181\",\n",
    "\"abduct hijack or take hostage\" : \"181\",\n",
    "\"arrest detain\": \"173\",\n",
    "\"arrest detain or charge with legal action\" : \"173\",\n",
    "\"carry out roadside bombing (ied)\" :\"1833\",\n",
    "\"carry out roadside bombing\": \"1833\",\n",
    "\"exhibit military or police power\": \"150\",\n",
    "\"demonstrate military or police power\" : \"150\",\n",
    "\"threaten to boycott embargo or sanction\": \"1312\",\n",
    "\"threaten with sanctions boycott embargo\": \"1312\",\n",
    "\"threaten political dissent\" : \"133\",\n",
    "\"threaten with political dissent protest\": \"133\",\n",
    "\"threaten to impose state of emergency or martial law\": \"1324\",\n",
    "\"threat to impose state of emergency or martial law\": \"1324\",\n",
    "\"threaten to halt international involvement (non-mediation)\": \"136\",\n",
    "\"threaten to halt international involvement (not medit.)\": \"136\",\n",
    "\"exhibit military posture\": \"15\",\n",
    "\"threaten conventional attack\": \"1384\",\n",
    "\"threaten blockade\": \"1381\",\n",
    "\"employ precision-guided aerial munitions\": \"1951\",\n",
    "\"threaten attack with wmd\": \"1385\",\n",
    "\"attack cybernetically\": \"175\",\n",
    "\"threaten force\": \"138\",\n",
    "\"fight\": \"19\",\n",
    "\"expel or withdraw inspectors observers\": \"1662\",\n",
    "\"engage in unconventional mass violence\": \"200\",\n",
    "\"expel or withdraw aid agencies\": \"1663\",\n",
    "\"mobilize or increase cyber-forces\": \"155\",\n",
    "\"threaten unconventional violence\": \"1383\",\n",
    "\"threaten occupation\": \"1382\",\n",
    "\"assault\": \"18\",\n",
    "\"employ remotely piloted aerial munitions\": \"1952\",\n",
    "\"engage in political dissent\": \"140\",\n",
    "\"refuse to ease popular dissent\": \"1242\",\n",
    "\"use tactics of violent repression\": \"175\",\n",
    "\"express intent to ease economic sanctions boycott or embargo\": \"0354\",\n",
    "\"engage in violent protest for rights\": \"1453\"\n",
    "}\n",
    "print(\"mapped categories {}\".format(len(mapped_categories)))\n"
   ]
  },
  {
   "cell_type": "code",
   "execution_count": 6,
   "metadata": {},
   "outputs": [
    {
     "name": "stdout",
     "output_type": "stream",
     "text": [
      "not present ==> return release [084]\n",
      "not present ==> allow international involvement [086]\n",
      "not present ==> de-escalate military engagement [087]\n",
      "not present ==> demand meditation [108]\n",
      "updating with cameo categories 300\n",
      "updating with mapped categories 373\n",
      "This should be 0. If not, add code to list above.\n",
      "# of mismatches: 0\n"
     ]
    }
   ],
   "source": [
    "for k, v in icews_cameo_categories.items():\n",
    "    if k in mapped_categories:\n",
    "        continue\n",
    "    if k in set(categories_from_data):\n",
    "        pass #print \"present\", k, \"[\",v, \"]\"\n",
    "    else:\n",
    "        print(\"not present ==> {} [{}]\".format(k,v))\n",
    "        \n",
    "all_categories = {}\n",
    "all_categories.update(icews_cameo_categories)\n",
    "print(\"updating with cameo categories {}\".format(len(all_categories)))\n",
    "all_categories.update(mapped_categories)\n",
    "print(\"updating with mapped categories {}\".format(len(all_categories)))        \n",
    "\n",
    "\n",
    "print(\"This should be 0. If not, add code to list above.\")\n",
    "print(\"# of mismatches: {}\".format(len(set(categories_from_data) - set(all_categories.keys()))))\n"
   ]
  },
  {
   "cell_type": "code",
   "execution_count": 7,
   "metadata": {},
   "outputs": [
    {
     "name": "stdout",
     "output_type": "stream",
     "text": [
      "Turkey collaborated with the United States to restrain Saddam Hussein through sanctions and a no-fly zone in the 1990s, and it has stood with the United States in the war against terrorism. \n",
      "ANKARA (A.A) - 01.10.2003 - U.S. Ambassador in Ankara Eric Edelman said on Wednesday that Turkey and the United States were expected to reach a common concept for solution after the talks which was started for elimination of terrorist PKK-KADEK organization from north of Iraq between the two countries. \n",
      "The sources said that police found 286 kilograms of heroin hidden in the truck and detained the driver of the truck. \n",
      "ANKARA (A.A) - 01.10.2003 - President Ahmet Necdet Sezer said on Wednesday that efforts of the Parliament and the government for European Union (EU) full membership deserved eulogy, and expressed belief that reforms would continue in the next period. \n",
      "Sezer said supreme Parliament, which founded Turkish Republic, was the backbone of democratic parliamentarian system, stating that, 'Parliament initiated democratization process by undertaking vital assignments in implementation and preservation of principles and reforms of Great Leader Mustafa Kemal Ataturk.' Sezer expressed his views on some issues which top the agenda of the country and the world, and stated that changing process, which was experienced because of rapid developments, obliged the countries to be strong in political and economic sense and to develop strategies which would be open to innovation.\n"
     ]
    }
   ],
   "source": [
    "for idx, item in ICEWS.head(5).iterrows():\n",
    "    print(item['Event Sentence'])"
   ]
  },
  {
   "cell_type": "code",
   "execution_count": null,
   "metadata": {
    "collapsed": true
   },
   "outputs": [],
   "source": [
    "ICEWS['CAMEO Code'] = pd.Series([all_categories[x.lower().replace(\",\",'')] for x in ICEWS['Event Text']], index = ICEWS.index)"
   ]
  },
  {
   "cell_type": "code",
   "execution_count": null,
   "metadata": {
    "collapsed": true
   },
   "outputs": [],
   "source": [
    "protest_event_codes = [140, 141, 1411, 1412, 1413, 1414, 142, 1421, 1422, 1423, 1424, 143, 1431, 1432, 1433, 1434,144, 1441, 1442, 1443, 1444]\n",
    "ICEWS_protest = ICEWS[ICEWS['CAMEO Code'].isin(protest_event_codes)]\n",
    "ICEWS_protest.head(5)"
   ]
  },
  {
   "cell_type": "code",
   "execution_count": 13,
   "metadata": {
    "collapsed": true
   },
   "outputs": [],
   "source": [
    "sentences = []\n",
    "for idx, item in ICEWS_protest.iterrows():\n",
    "    if len(word_tokenize(item['Event Sentence'])) <= 30:\n",
    "        sentences.append(item['Event Sentence'])"
   ]
  },
  {
   "cell_type": "code",
   "execution_count": 12,
   "metadata": {
    "collapsed": true
   },
   "outputs": [],
   "source": [
    "from nltk import word_tokenize"
   ]
  },
  {
   "cell_type": "code",
   "execution_count": 14,
   "metadata": {},
   "outputs": [
    {
     "data": {
      "text/plain": [
       "166071"
      ]
     },
     "execution_count": 14,
     "metadata": {},
     "output_type": "execute_result"
    }
   ],
   "source": [
    "# Select sentence with less than 30 tokens for training\n",
    "len(sentences)"
   ]
  },
  {
   "cell_type": "code",
   "execution_count": 77,
   "metadata": {
    "collapsed": true
   },
   "outputs": [],
   "source": [
    "train_sentences = sentences[0:166000]\n",
    "test_sentences = sentences[166000:]"
   ]
  },
  {
   "cell_type": "code",
   "execution_count": 78,
   "metadata": {
    "collapsed": true
   },
   "outputs": [],
   "source": [
    "with open('train.txt', 'w') as fp:\n",
    "    for sentence in train_sentences:\n",
    "        fp.write(sentence+'\\n')"
   ]
  },
  {
   "cell_type": "code",
   "execution_count": 79,
   "metadata": {
    "collapsed": true
   },
   "outputs": [],
   "source": [
    "with open('test.txt', 'w') as fp:\n",
    "    for sentence in test_sentences:\n",
    "        fp.write(sentence+'\\n')"
   ]
  },
  {
   "cell_type": "code",
   "execution_count": 15,
   "metadata": {},
   "outputs": [
    {
     "data": {
      "text/plain": [
       "Event Date         datetime64[ns]\n",
       "Source Name                object\n",
       "Source Sectors             object\n",
       "Source Country             object\n",
       "Event Text                 object\n",
       "Intensity                 float64\n",
       "Target Name                object\n",
       "Target Sectors             object\n",
       "Target Country             object\n",
       "Story ID                    int64\n",
       "Sentence Number             int64\n",
       "Event Sentence             object\n",
       "Publisher                  object\n",
       "Source                     object\n",
       "Headline                   object\n",
       "City                       object\n",
       "District                   object\n",
       "Province                   object\n",
       "Country                    object\n",
       "Latitude                  float64\n",
       "Longitude                 float64\n",
       "productID                  object\n",
       "holdingID                 float64\n",
       "CAMEO Code                 object\n",
       "dtype: object"
      ]
     },
     "execution_count": 15,
     "metadata": {},
     "output_type": "execute_result"
    }
   ],
   "source": [
    "ICEWS_protest.dtypes"
   ]
  },
  {
   "cell_type": "code",
   "execution_count": 10,
   "metadata": {},
   "outputs": [
    {
     "data": {
      "image/png": "[encoded data removed]",
      "text/plain": [
       "<matplotlib.figure.Figure at 0x7f32baecfd68>"
      ]
     },
     "metadata": {},
     "output_type": "display_data"
    }
   ],
   "source": [
    "k = [0, 1, 2, 3, 4]\n",
    "error = [ 12.5700, 12.5700,  12.5528,  12.6474,  12.6929]\n",
    "plt.plot([0, 1,2,3,4], error)\n",
    "plt.xticks([0,1,2,3,4])\n",
    "plt.xlabel('k-value')\n",
    "plt.ylabel('Reconstruction error')\n",
    "plt.title('Reconstruction Error for Noised Input')\n",
    "plt.show()"
   ]
  },
  {
   "cell_type": "code",
   "execution_count": 1,
   "metadata": {
    "collapsed": true
   },
   "outputs": [],
   "source": [
    "sentence1 = 'Students raised full-throated slogans against the government.'\n",
    "sentence2 = 'Students full-throated raised slogans against the government.'\n",
    "sentence3 = 'Students raised slogans full-throated against the government.'\n",
    "sentence4 = 'Students slogans full-throated raised the against government.'\n",
    "edit_distance = [1, 2, 3]\n",
    "cosine_similarity = [0.99668634, 0.99549246, 0.97257733]"
   ]
  },
  {
   "cell_type": "code",
   "execution_count": 5,
   "metadata": {},
   "outputs": [
    {
     "data": {
      "image/png": "[encoded data removed]",
      "text/plain": [
       "<matplotlib.figure.Figure at 0x7fb00a4655f8>"
      ]
     },
     "metadata": {},
     "output_type": "display_data"
    }
   ],
   "source": [
    "plt.plot(edit_distance, cosine_similarity)\n",
    "plt.xticks([1,2,3])\n",
    "plt.xlabel('Edit distance')\n",
    "plt.ylabel('Cosine similarity')\n",
    "plt.show()"
   ]
  },
  {
   "cell_type": "code",
   "execution_count": 5,
   "metadata": {
    "collapsed": true
   },
   "outputs": [],
   "source": [
    "G_loss = [0.00266834, -0.00100926, 0.00079178, -0.00246522, -0.00031174,\n",
    "          -0.00015647, -0.00014641, -0.00000649,  -0.00001857, 0.00033250,\n",
    "          0.00112063, 0.00031532, 0.00073041, -0.00015151, 0.00079593, 0.00006116, 0.00027953, -0.00000794, \n",
    "        ]\n",
    "epochs = range(1, 19)"
   ]
  },
  {
   "cell_type": "code",
   "execution_count": 6,
   "metadata": {},
   "outputs": [
    {
     "data": {
      "image/png": "[encoded data removed]",
      "text/plain": [
       "<matplotlib.figure.Figure at 0x7f758e76a128>"
      ]
     },
     "metadata": {},
     "output_type": "display_data"
    }
   ],
   "source": [
    "plt.plot(epochs, G_loss)\n",
    "plt.xlabel('Training epochs')\n",
    "plt.ylabel('Generator Loss')\n",
    "plt.show()"
   ]
  },
  {
   "cell_type": "code",
   "execution_count": null,
   "metadata": {
    "collapsed": true
   },
   "outputs": [],
   "source": []
  }
 ],
 "metadata": {
  "kernelspec": {
   "display_name": "Python 3",
   "language": "python",
   "name": "python3"
  },
  "language_info": {
   "codemirror_mode": {
    "name": "ipython",
    "version": 3
   },
   "file_extension": ".py",
   "mimetype": "text/x-python",
   "name": "python",
   "nbconvert_exporter": "python",
   "pygments_lexer": "ipython3",
   "version": "3.6.1"
  }
 },
 "nbformat": 4,
 "nbformat_minor": 2
}
